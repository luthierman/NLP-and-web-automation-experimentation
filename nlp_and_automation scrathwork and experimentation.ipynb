{
 "cells": [
  {
   "cell_type": "markdown",
   "metadata": {},
   "source": [
    "# Selenium"
   ]
  },
  {
   "cell_type": "code",
   "execution_count": 2,
   "metadata": {},
   "outputs": [],
   "source": [
    "from selenium import webdriver\n",
    "from selenium.webdriver.common.by import By\n",
    "from selenium.webdriver.common.keys import Keys\n",
    "from selenium.webdriver.support.ui import WebDriverWait\n",
    "from selenium.webdriver.support import expected_conditions as EC\n",
    "# for brave browser webdriver \n",
    "#https://stackoverflow.com/questions/47158434/how-to-run-selenium-tests-on-the-brave-web-browser\n"
   ]
  },
  {
   "cell_type": "code",
   "execution_count": 3,
   "metadata": {},
   "outputs": [],
   "source": [
    "import os \n",
    "from string import Template\n",
    "\n",
    "\n",
    "\"\"\"\n",
    "This script can repeatedly write and run other python scripts which can\n",
    "automate web browsing and searching\n",
    "\"\"\"\n",
    "for i in range(1,3):\n",
    "    fileName = \"f\"+str(i)+\".py\"\n",
    "    \n",
    "    with open(fileName, \"w\") as f:\n",
    "        url = \"https://www.ign.com\"\n",
    "        code = Template(\"\"\"\n",
    "from selenium import webdriver\n",
    "from selenium.webdriver.common.by import By\n",
    "from selenium.webdriver.common.keys import Keys\n",
    "from selenium.webdriver.support.ui import WebDriverWait\n",
    "from selenium.webdriver.support import expected_conditions as EC\n",
    "# for brave browser webdriver \n",
    "#https://stackoverflow.com/questions/47158434/how-to-run-selenium-tests-on-the-brave-web-browser\n",
    "browser = webdriver.Chrome(\"/Applications/Chrome/chromedriver_80\")\n",
    "browser.get(\"$x\")\n",
    "        \"\"\")\n",
    "        f.write(code.substitute(x = url))\n",
    "        f.close()\n",
    "\n",
    "for i in range(1,3):\n",
    "    os.system(\"python f\"+str(i)+\".py\")\n"
   ]
  },
  {
   "cell_type": "code",
   "execution_count": 4,
   "metadata": {},
   "outputs": [
    {
     "ename": "SyntaxError",
     "evalue": "invalid syntax (<ipython-input-4-c746bca1f399>, line 3)",
     "output_type": "error",
     "traceback": [
      "\u001b[0;36m  File \u001b[0;32m\"<ipython-input-4-c746bca1f399>\"\u001b[0;36m, line \u001b[0;32m3\u001b[0m\n\u001b[0;31m    import\u001b[0m\n\u001b[0m           ^\u001b[0m\n\u001b[0;31mSyntaxError\u001b[0m\u001b[0;31m:\u001b[0m invalid syntax\n"
     ]
    }
   ],
   "source": [
    "from os import path\n",
    "from string import Template\n",
    "current_path = os.getcwd()\n",
    "if path.exists(\"f1.py\"):\n",
    "    pass\n",
    "else:\n",
    "    for i in range(1,3):\n",
    "        fileName = \"f\"+str(i)+\".py\"\n",
    "\n",
    "        with open(fileName, \"w\") as f:\n",
    "            url = \"https://www.ign.com\"\n",
    "            code = (\"\"\"\n",
    "        \n",
    "from selenium import webdriver\n",
    "from selenium.webdriver.common.by import By\n",
    "from selenium.webdriver.common.keys import Keys\n",
    "from selenium.webdriver.support.ui import WebDriverWait\n",
    "from selenium.webdriver.support import expected_conditions as EC\n",
    "# for brave browser webdriver \n",
    "#https://stackoverflow.com/questions/47158434/how-to-run-selenium-tests-on-the-brave-web-browser\n",
    "browser = webdriver.Chrome(\"/Applications/Chrome/chromedriver_80\")\n",
    "browser.get(\"https://www.drudgereport.com\")\n",
    "            \"\"\")\n",
    "            f.write(code)\n",
    "            f.close()\n",
    "\n",
    "for i in range(1,3):\n",
    "    os.system(\"python f\"+str(i)+\".py\")\n"
   ]
  },
  {
   "cell_type": "code",
   "execution_count": null,
   "metadata": {},
   "outputs": [],
   "source": []
  },
  {
   "cell_type": "code",
   "execution_count": 5,
   "metadata": {},
   "outputs": [
    {
     "name": "stdout",
     "output_type": "stream",
     "text": [
      "None\n",
      "None\n",
      "None\n",
      "None\n",
      "None\n",
      "None\n",
      "None\n",
      "None\n",
      "None\n",
      "None\n",
      "None\n",
      "None\n",
      "None\n",
      "None\n",
      "None\n",
      "None\n",
      "None\n",
      "None\n",
      "None\n",
      "None\n",
      "None\n",
      "None\n",
      "None\n",
      "None\n",
      "None\n",
      "None\n",
      "None\n",
      "None\n",
      "None\n",
      "None\n",
      "None\n",
      "None\n",
      "None\n",
      "None\n",
      "None\n",
      "None\n",
      "None\n",
      "None\n",
      "None\n",
      "None\n",
      "None\n",
      "None\n",
      "None\n",
      "None\n"
     ]
    }
   ],
   "source": [
    "browser = webdriver.Chrome(\"/Applications/Chrome/chromedriver_80\")\n",
    "browser.get(\"https://www.youtube.com\")\n",
    "searchbox = browser.find_element_by_name('search_query')\n",
    "searchbox.send_keys(\"pewdiepie\")\n",
    "searchbutton = browser.find_element_by_id(\"search-icon-legacy\")\n",
    "searchbutton.click()\n",
    "links = browser.find_elements_by_id(\"video-title\")\n",
    "for x in links:\n",
    "    print(x.get_attribute(\"href\"))"
   ]
  },
  {
   "cell_type": "code",
   "execution_count": 6,
   "metadata": {},
   "outputs": [
    {
     "ename": "NoSuchWindowException",
     "evalue": "Message: no such window: window was already closed\n  (Session info: chrome=80.0.3987.162)\n",
     "output_type": "error",
     "traceback": [
      "\u001b[0;31m---------------------------------------------------------------------------\u001b[0m",
      "\u001b[0;31mNoSuchWindowException\u001b[0m                     Traceback (most recent call last)",
      "\u001b[0;32m<ipython-input-6-46c453ac2316>\u001b[0m in \u001b[0;36m<module>\u001b[0;34m\u001b[0m\n\u001b[1;32m      2\u001b[0m \u001b[0;31m#elem.get_attribute(\"href\")\u001b[0m\u001b[0;34m\u001b[0m\u001b[0;34m\u001b[0m\u001b[0;34m\u001b[0m\u001b[0m\n\u001b[1;32m      3\u001b[0m \u001b[0;34m\u001b[0m\u001b[0m\n\u001b[0;32m----> 4\u001b[0;31m \u001b[0mbrowser\u001b[0m\u001b[0;34m.\u001b[0m\u001b[0mget\u001b[0m\u001b[0;34m(\u001b[0m\u001b[0;34m\"https://chercher.tech\"\u001b[0m\u001b[0;34m)\u001b[0m\u001b[0;34m\u001b[0m\u001b[0;34m\u001b[0m\u001b[0m\n\u001b[0m\u001b[1;32m      5\u001b[0m \u001b[0mcookie\u001b[0m \u001b[0;34m=\u001b[0m \u001b[0;34m{\u001b[0m\u001b[0;34m\"name\"\u001b[0m\u001b[0;34m:\u001b[0m \u001b[0;34m\"foo\"\u001b[0m\u001b[0;34m,\u001b[0m \u001b[0;34m\"value\"\u001b[0m\u001b[0;34m:\u001b[0m \u001b[0;34m\"bar\"\u001b[0m\u001b[0;34m}\u001b[0m\u001b[0;34m\u001b[0m\u001b[0;34m\u001b[0m\u001b[0m\n\u001b[1;32m      6\u001b[0m \u001b[0mbrowser\u001b[0m\u001b[0;34m.\u001b[0m\u001b[0madd_cookie\u001b[0m\u001b[0;34m(\u001b[0m\u001b[0mcookie\u001b[0m\u001b[0;34m)\u001b[0m\u001b[0;34m\u001b[0m\u001b[0;34m\u001b[0m\u001b[0m\n",
      "\u001b[0;32m~/opt/anaconda3/lib/python3.7/site-packages/selenium/webdriver/remote/webdriver.py\u001b[0m in \u001b[0;36mget\u001b[0;34m(self, url)\u001b[0m\n\u001b[1;32m    331\u001b[0m         \u001b[0mLoads\u001b[0m \u001b[0ma\u001b[0m \u001b[0mweb\u001b[0m \u001b[0mpage\u001b[0m \u001b[0;32min\u001b[0m \u001b[0mthe\u001b[0m \u001b[0mcurrent\u001b[0m \u001b[0mbrowser\u001b[0m \u001b[0msession\u001b[0m\u001b[0;34m.\u001b[0m\u001b[0;34m\u001b[0m\u001b[0;34m\u001b[0m\u001b[0m\n\u001b[1;32m    332\u001b[0m         \"\"\"\n\u001b[0;32m--> 333\u001b[0;31m         \u001b[0mself\u001b[0m\u001b[0;34m.\u001b[0m\u001b[0mexecute\u001b[0m\u001b[0;34m(\u001b[0m\u001b[0mCommand\u001b[0m\u001b[0;34m.\u001b[0m\u001b[0mGET\u001b[0m\u001b[0;34m,\u001b[0m \u001b[0;34m{\u001b[0m\u001b[0;34m'url'\u001b[0m\u001b[0;34m:\u001b[0m \u001b[0murl\u001b[0m\u001b[0;34m}\u001b[0m\u001b[0;34m)\u001b[0m\u001b[0;34m\u001b[0m\u001b[0;34m\u001b[0m\u001b[0m\n\u001b[0m\u001b[1;32m    334\u001b[0m \u001b[0;34m\u001b[0m\u001b[0m\n\u001b[1;32m    335\u001b[0m     \u001b[0;34m@\u001b[0m\u001b[0mproperty\u001b[0m\u001b[0;34m\u001b[0m\u001b[0;34m\u001b[0m\u001b[0m\n",
      "\u001b[0;32m~/opt/anaconda3/lib/python3.7/site-packages/selenium/webdriver/remote/webdriver.py\u001b[0m in \u001b[0;36mexecute\u001b[0;34m(self, driver_command, params)\u001b[0m\n\u001b[1;32m    319\u001b[0m         \u001b[0mresponse\u001b[0m \u001b[0;34m=\u001b[0m \u001b[0mself\u001b[0m\u001b[0;34m.\u001b[0m\u001b[0mcommand_executor\u001b[0m\u001b[0;34m.\u001b[0m\u001b[0mexecute\u001b[0m\u001b[0;34m(\u001b[0m\u001b[0mdriver_command\u001b[0m\u001b[0;34m,\u001b[0m \u001b[0mparams\u001b[0m\u001b[0;34m)\u001b[0m\u001b[0;34m\u001b[0m\u001b[0;34m\u001b[0m\u001b[0m\n\u001b[1;32m    320\u001b[0m         \u001b[0;32mif\u001b[0m \u001b[0mresponse\u001b[0m\u001b[0;34m:\u001b[0m\u001b[0;34m\u001b[0m\u001b[0;34m\u001b[0m\u001b[0m\n\u001b[0;32m--> 321\u001b[0;31m             \u001b[0mself\u001b[0m\u001b[0;34m.\u001b[0m\u001b[0merror_handler\u001b[0m\u001b[0;34m.\u001b[0m\u001b[0mcheck_response\u001b[0m\u001b[0;34m(\u001b[0m\u001b[0mresponse\u001b[0m\u001b[0;34m)\u001b[0m\u001b[0;34m\u001b[0m\u001b[0;34m\u001b[0m\u001b[0m\n\u001b[0m\u001b[1;32m    322\u001b[0m             response['value'] = self._unwrap_value(\n\u001b[1;32m    323\u001b[0m                 response.get('value', None))\n",
      "\u001b[0;32m~/opt/anaconda3/lib/python3.7/site-packages/selenium/webdriver/remote/errorhandler.py\u001b[0m in \u001b[0;36mcheck_response\u001b[0;34m(self, response)\u001b[0m\n\u001b[1;32m    240\u001b[0m                 \u001b[0malert_text\u001b[0m \u001b[0;34m=\u001b[0m \u001b[0mvalue\u001b[0m\u001b[0;34m[\u001b[0m\u001b[0;34m'alert'\u001b[0m\u001b[0;34m]\u001b[0m\u001b[0;34m.\u001b[0m\u001b[0mget\u001b[0m\u001b[0;34m(\u001b[0m\u001b[0;34m'text'\u001b[0m\u001b[0;34m)\u001b[0m\u001b[0;34m\u001b[0m\u001b[0;34m\u001b[0m\u001b[0m\n\u001b[1;32m    241\u001b[0m             \u001b[0;32mraise\u001b[0m \u001b[0mexception_class\u001b[0m\u001b[0;34m(\u001b[0m\u001b[0mmessage\u001b[0m\u001b[0;34m,\u001b[0m \u001b[0mscreen\u001b[0m\u001b[0;34m,\u001b[0m \u001b[0mstacktrace\u001b[0m\u001b[0;34m,\u001b[0m \u001b[0malert_text\u001b[0m\u001b[0;34m)\u001b[0m\u001b[0;34m\u001b[0m\u001b[0;34m\u001b[0m\u001b[0m\n\u001b[0;32m--> 242\u001b[0;31m         \u001b[0;32mraise\u001b[0m \u001b[0mexception_class\u001b[0m\u001b[0;34m(\u001b[0m\u001b[0mmessage\u001b[0m\u001b[0;34m,\u001b[0m \u001b[0mscreen\u001b[0m\u001b[0;34m,\u001b[0m \u001b[0mstacktrace\u001b[0m\u001b[0;34m)\u001b[0m\u001b[0;34m\u001b[0m\u001b[0;34m\u001b[0m\u001b[0m\n\u001b[0m\u001b[1;32m    243\u001b[0m \u001b[0;34m\u001b[0m\u001b[0m\n\u001b[1;32m    244\u001b[0m     \u001b[0;32mdef\u001b[0m \u001b[0m_value_or_default\u001b[0m\u001b[0;34m(\u001b[0m\u001b[0mself\u001b[0m\u001b[0;34m,\u001b[0m \u001b[0mobj\u001b[0m\u001b[0;34m,\u001b[0m \u001b[0mkey\u001b[0m\u001b[0;34m,\u001b[0m \u001b[0mdefault\u001b[0m\u001b[0;34m)\u001b[0m\u001b[0;34m:\u001b[0m\u001b[0;34m\u001b[0m\u001b[0;34m\u001b[0m\u001b[0m\n",
      "\u001b[0;31mNoSuchWindowException\u001b[0m: Message: no such window: window was already closed\n  (Session info: chrome=80.0.3987.162)\n"
     ]
    }
   ],
   "source": [
    "\n",
    "#elem.text\n",
    "#elem.get_attribute(\"href\")\n",
    "\n",
    "browser.get(\"https://chercher.tech\")\n",
    "cookie = {\"name\": \"foo\", \"value\": \"bar\"}\n",
    "browser.add_cookie(cookie)\n"
   ]
  },
  {
   "cell_type": "code",
   "execution_count": 7,
   "metadata": {},
   "outputs": [
    {
     "ename": "NoSuchWindowException",
     "evalue": "Message: no such window: window was already closed\n  (Session info: chrome=80.0.3987.162)\n",
     "output_type": "error",
     "traceback": [
      "\u001b[0;31m---------------------------------------------------------------------------\u001b[0m",
      "\u001b[0;31mNoSuchWindowException\u001b[0m                     Traceback (most recent call last)",
      "\u001b[0;32m<ipython-input-7-d6b79caa2097>\u001b[0m in \u001b[0;36m<module>\u001b[0;34m\u001b[0m\n\u001b[0;32m----> 1\u001b[0;31m \u001b[0mbrowser\u001b[0m\u001b[0;34m.\u001b[0m\u001b[0mdelete_cookie\u001b[0m\u001b[0;34m(\u001b[0m\u001b[0;34m\"foo\"\u001b[0m\u001b[0;34m)\u001b[0m\u001b[0;34m\u001b[0m\u001b[0;34m\u001b[0m\u001b[0m\n\u001b[0m",
      "\u001b[0;32m~/opt/anaconda3/lib/python3.7/site-packages/selenium/webdriver/remote/webdriver.py\u001b[0m in \u001b[0;36mdelete_cookie\u001b[0;34m(self, name)\u001b[0m\n\u001b[1;32m    867\u001b[0m             \u001b[0mdriver\u001b[0m\u001b[0;34m.\u001b[0m\u001b[0mdelete_cookie\u001b[0m\u001b[0;34m(\u001b[0m\u001b[0;34m'my_cookie'\u001b[0m\u001b[0;34m)\u001b[0m\u001b[0;34m\u001b[0m\u001b[0;34m\u001b[0m\u001b[0m\n\u001b[1;32m    868\u001b[0m         \"\"\"\n\u001b[0;32m--> 869\u001b[0;31m         \u001b[0mself\u001b[0m\u001b[0;34m.\u001b[0m\u001b[0mexecute\u001b[0m\u001b[0;34m(\u001b[0m\u001b[0mCommand\u001b[0m\u001b[0;34m.\u001b[0m\u001b[0mDELETE_COOKIE\u001b[0m\u001b[0;34m,\u001b[0m \u001b[0;34m{\u001b[0m\u001b[0;34m'name'\u001b[0m\u001b[0;34m:\u001b[0m \u001b[0mname\u001b[0m\u001b[0;34m}\u001b[0m\u001b[0;34m)\u001b[0m\u001b[0;34m\u001b[0m\u001b[0;34m\u001b[0m\u001b[0m\n\u001b[0m\u001b[1;32m    870\u001b[0m \u001b[0;34m\u001b[0m\u001b[0m\n\u001b[1;32m    871\u001b[0m     \u001b[0;32mdef\u001b[0m \u001b[0mdelete_all_cookies\u001b[0m\u001b[0;34m(\u001b[0m\u001b[0mself\u001b[0m\u001b[0;34m)\u001b[0m\u001b[0;34m:\u001b[0m\u001b[0;34m\u001b[0m\u001b[0;34m\u001b[0m\u001b[0m\n",
      "\u001b[0;32m~/opt/anaconda3/lib/python3.7/site-packages/selenium/webdriver/remote/webdriver.py\u001b[0m in \u001b[0;36mexecute\u001b[0;34m(self, driver_command, params)\u001b[0m\n\u001b[1;32m    319\u001b[0m         \u001b[0mresponse\u001b[0m \u001b[0;34m=\u001b[0m \u001b[0mself\u001b[0m\u001b[0;34m.\u001b[0m\u001b[0mcommand_executor\u001b[0m\u001b[0;34m.\u001b[0m\u001b[0mexecute\u001b[0m\u001b[0;34m(\u001b[0m\u001b[0mdriver_command\u001b[0m\u001b[0;34m,\u001b[0m \u001b[0mparams\u001b[0m\u001b[0;34m)\u001b[0m\u001b[0;34m\u001b[0m\u001b[0;34m\u001b[0m\u001b[0m\n\u001b[1;32m    320\u001b[0m         \u001b[0;32mif\u001b[0m \u001b[0mresponse\u001b[0m\u001b[0;34m:\u001b[0m\u001b[0;34m\u001b[0m\u001b[0;34m\u001b[0m\u001b[0m\n\u001b[0;32m--> 321\u001b[0;31m             \u001b[0mself\u001b[0m\u001b[0;34m.\u001b[0m\u001b[0merror_handler\u001b[0m\u001b[0;34m.\u001b[0m\u001b[0mcheck_response\u001b[0m\u001b[0;34m(\u001b[0m\u001b[0mresponse\u001b[0m\u001b[0;34m)\u001b[0m\u001b[0;34m\u001b[0m\u001b[0;34m\u001b[0m\u001b[0m\n\u001b[0m\u001b[1;32m    322\u001b[0m             response['value'] = self._unwrap_value(\n\u001b[1;32m    323\u001b[0m                 response.get('value', None))\n",
      "\u001b[0;32m~/opt/anaconda3/lib/python3.7/site-packages/selenium/webdriver/remote/errorhandler.py\u001b[0m in \u001b[0;36mcheck_response\u001b[0;34m(self, response)\u001b[0m\n\u001b[1;32m    240\u001b[0m                 \u001b[0malert_text\u001b[0m \u001b[0;34m=\u001b[0m \u001b[0mvalue\u001b[0m\u001b[0;34m[\u001b[0m\u001b[0;34m'alert'\u001b[0m\u001b[0;34m]\u001b[0m\u001b[0;34m.\u001b[0m\u001b[0mget\u001b[0m\u001b[0;34m(\u001b[0m\u001b[0;34m'text'\u001b[0m\u001b[0;34m)\u001b[0m\u001b[0;34m\u001b[0m\u001b[0;34m\u001b[0m\u001b[0m\n\u001b[1;32m    241\u001b[0m             \u001b[0;32mraise\u001b[0m \u001b[0mexception_class\u001b[0m\u001b[0;34m(\u001b[0m\u001b[0mmessage\u001b[0m\u001b[0;34m,\u001b[0m \u001b[0mscreen\u001b[0m\u001b[0;34m,\u001b[0m \u001b[0mstacktrace\u001b[0m\u001b[0;34m,\u001b[0m \u001b[0malert_text\u001b[0m\u001b[0;34m)\u001b[0m\u001b[0;34m\u001b[0m\u001b[0;34m\u001b[0m\u001b[0m\n\u001b[0;32m--> 242\u001b[0;31m         \u001b[0;32mraise\u001b[0m \u001b[0mexception_class\u001b[0m\u001b[0;34m(\u001b[0m\u001b[0mmessage\u001b[0m\u001b[0;34m,\u001b[0m \u001b[0mscreen\u001b[0m\u001b[0;34m,\u001b[0m \u001b[0mstacktrace\u001b[0m\u001b[0;34m)\u001b[0m\u001b[0;34m\u001b[0m\u001b[0;34m\u001b[0m\u001b[0m\n\u001b[0m\u001b[1;32m    243\u001b[0m \u001b[0;34m\u001b[0m\u001b[0m\n\u001b[1;32m    244\u001b[0m     \u001b[0;32mdef\u001b[0m \u001b[0m_value_or_default\u001b[0m\u001b[0;34m(\u001b[0m\u001b[0mself\u001b[0m\u001b[0;34m,\u001b[0m \u001b[0mobj\u001b[0m\u001b[0;34m,\u001b[0m \u001b[0mkey\u001b[0m\u001b[0;34m,\u001b[0m \u001b[0mdefault\u001b[0m\u001b[0;34m)\u001b[0m\u001b[0;34m:\u001b[0m\u001b[0;34m\u001b[0m\u001b[0;34m\u001b[0m\u001b[0m\n",
      "\u001b[0;31mNoSuchWindowException\u001b[0m: Message: no such window: window was already closed\n  (Session info: chrome=80.0.3987.162)\n"
     ]
    }
   ],
   "source": [
    "browser.delete_cookie(\"foo\")"
   ]
  },
  {
   "cell_type": "code",
   "execution_count": 102,
   "metadata": {},
   "outputs": [],
   "source": [
    "browser.delete_all_cookies()"
   ]
  },
  {
   "cell_type": "code",
   "execution_count": null,
   "metadata": {},
   "outputs": [],
   "source": []
  },
  {
   "cell_type": "code",
   "execution_count": 105,
   "metadata": {},
   "outputs": [],
   "source": [
    "presence = EC.presence_of_element_located\n",
    "visisble = EC.visibility_of_element_located"
   ]
  },
  {
   "cell_type": "markdown",
   "metadata": {},
   "source": []
  },
  {
   "cell_type": "markdown",
   "metadata": {},
   "source": [
    "# NLP"
   ]
  },
  {
   "cell_type": "code",
   "execution_count": 8,
   "metadata": {},
   "outputs": [],
   "source": [
    "import os\n",
    "\n",
    "try:\n",
    "    import nltk\n",
    "except ImportError:\n",
    "    print(\"Trying to Install required module: nltk\\n\")\n",
    "    os.system(\"pip install nltk\")\n",
    "\n",
    "    # for installing newspaper, \n",
    "    # you can just import manually if preferred\n",
    "try:\n",
    "    import newspaper\n",
    "except ImportError:\n",
    "    print(\"Trying to Install required module: newspaper...\\n\")\n",
    "    os.system(\"pip3 install newspaper3k\") #for not conda\n",
    "    os.system(\"curl https://raw.githubusercontent.com/codelucas/newspaper/master/download_corpora.py | python3\")\n",
    "    #os.system(\"conda install newspaper3k\")\n",
    "    \n",
    "    \n",
    "from newspaper import Article\n",
    "import random\n",
    "import string\n",
    "from sklearn.feature_extraction.text import TfidfVectorizer\n",
    "from sklearn.metrics.pairwise import cosine_similarity\n",
    "import numpy as np\n",
    "import warnings\n",
    "\n",
    "# libraries\n",
    "nltk.download(\"punkt\", quiet=True)\n",
    "nltk.download(\"wordnet\", quiet = True)\n",
    "\n",
    "def get_corpus(url):\n",
    "    article = Article(url)\n",
    "    article.download()\n",
    "    article.parse()\n",
    "    article.nlp()\n",
    "    corpus = article.text\n",
    "    return corpus\n",
    "\n",
    "def get_token(text):\n",
    "    \n",
    "    # tokenization\n",
    "    sent_tokens = nltk.sent_tokenize(text)\n",
    "    #dictionary to remove punctuations\n",
    "    remove_punct_dict = dict ((ord(punct), None) for punct in string.punctuation)\n",
    "    return remove_punct_dict\n",
    "\n",
    "def LemNormalize(text):\n",
    "    return nltk.word_tokenize(text.lower().translate(remove_punct_dict))"
   ]
  },
  {
   "cell_type": "code",
   "execution_count": 10,
   "metadata": {},
   "outputs": [
    {
     "name": "stdout",
     "output_type": "stream",
     "text": [
      "It is about time I started reviewing my SQL and database knowledge. I started off by reviewing SQL queries as simple as selecting rows from a table, but as I was going through these queries, I felt like I was not touching upon everything important to relational databases. In the back of my head, I was thinking there are relationships, 1NF, 2NF, etc. … But I wasn’t sure until I came across a database schema problem today. Doh! I forgot what it takes to create a database schema!\n",
      "\n",
      "Relational Databases\n",
      "\n",
      "What is a relational database? A relational database is defined as a database structured to recognize relations among stored items of information according to Google search. You can represent data of all sorts through a relational database, such as a grocery store’s inventory to a realtor company and their houses.\n",
      "\n",
      "The way a relational database works is by storing information in tables, where each table has its own rows and columns. A row represents a record (or tuple), while a column represents a field (or attribute). I will provide an example of a basic table.\n",
      "\n",
      "In this example of a grocery list, a row represents a grocery item and how many of each item, while a column represents an attribute of a grocery item in the list. This table is shown by selecting all elements in the table.\n",
      "\n",
      "Now, after seeing this example, you might think a database looks like a spreadsheet. However, what makes a database relational is the fact that there are relationships between the tables. This enables a relational database to efficiently store large amounts of data, while retrieving selected data.\n",
      "\n",
      "This is the selection of a single row in the table.\n",
      "\n",
      "Now, what is SQL?\n",
      "\n",
      "SQL (pronounced either as “sequel” or “ess que el”) stands for Structured Query Language. This language was developed to work with relational databases. There are many popular adaptations of SQL that are specific to certain relational database management systems (RDBMS), such as PostgreSQL, MySQL or mSQL. We will just be using standard SQL in this article.\n",
      "\n",
      "Now let’s get to Relational Database Schema Design!\n",
      "\n",
      "What is essential to a good database design?\n",
      "\n",
      "Reduces redundancy : divide information carefully among tables to eliminate data redundancy. Duplicate data wastes space and can lead to inconsistency.\n",
      "\n",
      ": divide information carefully among tables to eliminate data redundancy. Duplicate data wastes space and can lead to inconsistency. Provides access with information a user needs to join tables together. (Use good primary keys, while creating proper relationships between tables.)\n",
      "\n",
      "with information a user needs to join tables together. (Use good primary keys, while creating proper relationships between tables.) Ensures data accuracy and integrity .\n",
      "\n",
      "and . Accommodates your data processing and reporting needs.\n",
      "\n",
      "Design Process\n",
      "\n",
      "You are the designer — make sure you make the right decisions by using these guidelines to create the best relational database you can.\n",
      "\n",
      "Define the purpose of the database — You want to find and gather requirements for this database. Determine its objective. You can help determine what kind of information you need to record into the database by sampling queries and what results you want from the query. From here, gather the information you need, divide them into individual tables. Determine what the columns (fields) of each table will be. Remember, do not repeat information. Figure out the Primary Key for each table — A primary key is a field that uniquely identifies a row. A primary key can be multiple fields if necessary, in which this is known as a composite key, while a primary key using only one field is known as a simple key. For the grocery list above, the Primary Key is the column grocery_id. I chose grocery_id as the primary key as it is unique to every grocery item, is of integer type, and is simple. In light of my decision, please remember these guidelines for choosing a primary key:\n",
      "\n",
      "Make sure each row has a unique key — you cannot have duplicate values for the primary key of separate rows.\n",
      "\n",
      "Must have a value! Can never be null.\n",
      "\n",
      "Keep it simple if you can.\n",
      "\n",
      "Use an integer type primary key.\n",
      "\n",
      "3. Determine the relationships among the tables — if you only have one table, it is pretty useless to have a database — consider a spreadsheet instead. Now, if you have multiple tables, you must determine the relationship between tables. There are many types of relationships between tables: one-to-one, one-to-many, many-to-many. We will briefly describe these relationships below, with examples.\n",
      "\n",
      "One-to-one: In a one-to-one relationship, only one row of a table is linked to at most one row on the other table. In this case, a one-to-one relationship is useful to store data that is optional. For example, a grocery list item can map to a grocery item details table that provides more information on the item. If the grocery item does not have this data available, there won’t be an entry for that grocery item. Check out the tables below as an example. Both tables can be joined with their common column grocery_id, which happen to be the primary key of both tables.\n",
      "\n",
      "Schema for the tables with a one-to-one relationship.\n",
      "\n",
      "For each row in GroceriesList (top table) there is a row in GroceryDetail (bottom table), listing the optional data.\n",
      "\n",
      "One-to-Many: In a one-to-many relationship, one row of one table can link to many rows in a table. A great example of a one-to-many relationship is an AuthorsList and BooksList. An author can have many books written, and in this case let’s keep it simple by imagining each book having only one author. The advantage of a one-to-many relationship is to store the frequently used information in the parent table (the table with “one”), while referencing this information many times in the child table (the table with “many”). In the child table, there should be a foreign key, which is the parent table’s primary key, that is used to reference back to the parent table. In the example below, the foreign key is the author_id.\n",
      "\n",
      "Schema for Authors table and Books table. Books has a foreign key author_id to illustrate the one-to-many relationship.\n",
      "\n",
      "The Authors table and Books table with inserted information. Observe how multiple entries of the Books table have the same author_id.\n",
      "\n",
      "Many-to-Many: In a many-to-many relationship, one or more rows of one table can link to 0, 1 or many rows in the other table. To implement this relationship, we must use a mapping or intermediary or junction table.\n",
      "\n",
      "We will use a grocery store as an example. In a grocery store, you have a list of products (grocery list of the store) called Products with primary key product_id, and each customer has their own order (or transaction) full of groceries, called Transactions with primary key transaction_id. A grocery can be purchased by 0, 1 or more customers, and a customer can purchase 0, 1 or more groceries. To map this, we use a junction table named ProductTransaction using both primary keys product_id and transaction_id to map a transaction (or customer) to a product, and map a product to a transaction.\n",
      "\n",
      "Database Schema for the Products, Transactions and junction table ProductsTransactions to demonstrate the many-to-many relationship between the two tables.\n",
      "\n",
      "Example of values that represent the many-to-many relationship between Products and Transactions. Observe how there are multiple products to the same transaction, and multiple transactions to same product.\n",
      "\n",
      "4. Refine the Design — Ask yourself these questions: do you have enough columns to represent your data? Could you derive a column from a combination of columns? Are you entering duplicate information? Do you have any empty fields in individual records? Can a large table be split into two? There are more questions you may ask about your database schema, but to achieve a refined design, you must normalize your tables.\n",
      "\n",
      "Normalization Rules:\n",
      "\n",
      "First Normal Form (1NF) : A table follows first normal form if for every row and column intersection (a cell in a table) in the table, there exists a single value and never a list of values. This is known as the atomic rule. Use the one-to-many relationship to follow 1NF.\n",
      "\n",
      ": A table follows first normal form if for every row and column intersection (a cell in a table) in the table, there exists a single value and never a list of values. This is known as the atomic rule. Use the one-to-many relationship to follow 1NF. Second Normal Form (2NF): A table follows second normal form if it is 1NF and every non-key column is fully dependent on the primary key. This also applies when a primary key has multiple columns, every non-key column should still depend on the entire set and not part of it.\n",
      "\n",
      "This example does not follow 2NF:\n",
      "\n",
      "Order ID (PK)\n",
      "\n",
      "Product ID (PK)\n",
      "\n",
      "Product Name\n",
      "\n",
      "Since Product Name depends on Product ID but not Order ID.\n",
      "\n",
      "Third Normal Form (3NF): A table is 3NF if it is 2NF and the non-key columns are independent of each other.\n",
      "\n",
      "This example does not follow 3NF:\n",
      "\n",
      "Grocery ID (PK)\n",
      "\n",
      "Name\n",
      "\n",
      "Price\n",
      "\n",
      "Discount\n",
      "\n",
      "Since Discount is dependent on Price, another non-key column.\n",
      "\n",
      "Lastly, there are integrity rules to ensure integrity of your information:\n",
      "\n",
      "Entity Integrity Rule : The primary key cannot contain NULL! Otherwise, it cannot uniquely identify the row. This includes for multiple column’d primary keys as well, none of the columns can be NULL.\n",
      "\n",
      ": The primary key cannot contain NULL! Otherwise, it cannot uniquely identify the row. This includes for multiple column’d primary keys as well, none of the columns can be NULL. Referential Integrity Rule : Each foreign key value must be matched to a primary key value in the table referenced (or parent table). In turn, this means that you can only insert a row with a foreign key in the child table only if that value (of the foreign key) exists in the parent table. If the value of the key changes in the parent table, all rows in the child table(s) should also change the value of the foreign key referring to the parent table. This can be handled by either not allowing change, cascading the change, or set the key value in the child tables to NULL.\n",
      "\n",
      ": Each foreign key value must be matched to a primary key value in the table referenced (or parent table). In turn, this means that you can only insert a row with a foreign key in the child table only if that value (of the foreign key) exists in the parent table. If the value of the key changes in the parent table, all rows in the child table(s) should also change the value of the foreign key referring to the parent table. This can be handled by either not allowing change, cascading the change, or set the key value in the child tables to NULL. Business logic integrity: These are validation rules to ensure for correct values (5 digit zip codes, validating credit card number, etc).\n",
      "\n",
      "Conclusions\n",
      "\n",
      "There are many steps to creating a “good” database structurally. First, you need to understand the needs of your database. What information do you need to store? How can you split this information up into separate tables? What are the primary keys for each table? These are very important questions to ask before jumping into creating a database.\n",
      "\n",
      "You use the information above to create your tables. The tables then need to form relationships with one another. If there are many-to-many relationships, you will need a junction table. Lastly, after establishing relationships, you need to normalize your tables. Make sure that all tables are 3NF, and follow integrity rules to ensure the safety of your data.\n",
      "\n",
      "Voila, you now have yourself a good database schema design! Below are the materials I used to create this article.\n",
      "\n",
      "References:\n"
     ]
    }
   ],
   "source": [
    "#get article\n",
    "\n",
    "article = Article(\"https://medium.com/@kimtnguyen/relational-database-schema-design-overview-70e447ff66f9\")\n",
    "article.download()\n",
    "article.parse()\n",
    "article.nlp()\n",
    "corpus = article.text\n",
    "\n",
    "print(corpus)"
   ]
  },
  {
   "cell_type": "code",
   "execution_count": 11,
   "metadata": {},
   "outputs": [
    {
     "name": "stdout",
     "output_type": "stream",
     "text": [
      "['It is about time I started reviewing my SQL and database knowledge.', 'I started off by reviewing SQL queries as simple as selecting rows from a table, but as I was going through these queries, I felt like I was not touching upon everything important to relational databases.', 'In the back of my head, I was thinking there are relationships, 1NF, 2NF, etc.', '… But I wasn’t sure until I came across a database schema problem today.', 'Doh!', 'I forgot what it takes to create a database schema!', 'Relational Databases\\n\\nWhat is a relational database?', 'A relational database is defined as a database structured to recognize relations among stored items of information according to Google search.', 'You can represent data of all sorts through a relational database, such as a grocery store’s inventory to a realtor company and their houses.', 'The way a relational database works is by storing information in tables, where each table has its own rows and columns.', 'A row represents a record (or tuple), while a column represents a field (or attribute).', 'I will provide an example of a basic table.', 'In this example of a grocery list, a row represents a grocery item and how many of each item, while a column represents an attribute of a grocery item in the list.', 'This table is shown by selecting all elements in the table.', 'Now, after seeing this example, you might think a database looks like a spreadsheet.', 'However, what makes a database relational is the fact that there are relationships between the tables.', 'This enables a relational database to efficiently store large amounts of data, while retrieving selected data.', 'This is the selection of a single row in the table.', 'Now, what is SQL?', 'SQL (pronounced either as “sequel” or “ess que el”) stands for Structured Query Language.', 'This language was developed to work with relational databases.', 'There are many popular adaptations of SQL that are specific to certain relational database management systems (RDBMS), such as PostgreSQL, MySQL or mSQL.', 'We will just be using standard SQL in this article.', 'Now let’s get to Relational Database Schema Design!', 'What is essential to a good database design?', 'Reduces redundancy : divide information carefully among tables to eliminate data redundancy.', 'Duplicate data wastes space and can lead to inconsistency.', ': divide information carefully among tables to eliminate data redundancy.', 'Duplicate data wastes space and can lead to inconsistency.', 'Provides access with information a user needs to join tables together.', '(Use good primary keys, while creating proper relationships between tables.)', 'with information a user needs to join tables together.', '(Use good primary keys, while creating proper relationships between tables.)', 'Ensures data accuracy and integrity .', 'and .', 'Accommodates your data processing and reporting needs.', 'Design Process\\n\\nYou are the designer — make sure you make the right decisions by using these guidelines to create the best relational database you can.', 'Define the purpose of the database — You want to find and gather requirements for this database.', 'Determine its objective.', 'You can help determine what kind of information you need to record into the database by sampling queries and what results you want from the query.', 'From here, gather the information you need, divide them into individual tables.', 'Determine what the columns (fields) of each table will be.', 'Remember, do not repeat information.', 'Figure out the Primary Key for each table — A primary key is a field that uniquely identifies a row.', 'A primary key can be multiple fields if necessary, in which this is known as a composite key, while a primary key using only one field is known as a simple key.', 'For the grocery list above, the Primary Key is the column grocery_id.', 'I chose grocery_id as the primary key as it is unique to every grocery item, is of integer type, and is simple.', 'In light of my decision, please remember these guidelines for choosing a primary key:\\n\\nMake sure each row has a unique key — you cannot have duplicate values for the primary key of separate rows.', 'Must have a value!', 'Can never be null.', 'Keep it simple if you can.', 'Use an integer type primary key.', '3.', 'Determine the relationships among the tables — if you only have one table, it is pretty useless to have a database — consider a spreadsheet instead.', 'Now, if you have multiple tables, you must determine the relationship between tables.', 'There are many types of relationships between tables: one-to-one, one-to-many, many-to-many.', 'We will briefly describe these relationships below, with examples.', 'One-to-one: In a one-to-one relationship, only one row of a table is linked to at most one row on the other table.', 'In this case, a one-to-one relationship is useful to store data that is optional.', 'For example, a grocery list item can map to a grocery item details table that provides more information on the item.', 'If the grocery item does not have this data available, there won’t be an entry for that grocery item.', 'Check out the tables below as an example.', 'Both tables can be joined with their common column grocery_id, which happen to be the primary key of both tables.', 'Schema for the tables with a one-to-one relationship.', 'For each row in GroceriesList (top table) there is a row in GroceryDetail (bottom table), listing the optional data.', 'One-to-Many: In a one-to-many relationship, one row of one table can link to many rows in a table.', 'A great example of a one-to-many relationship is an AuthorsList and BooksList.', 'An author can have many books written, and in this case let’s keep it simple by imagining each book having only one author.', 'The advantage of a one-to-many relationship is to store the frequently used information in the parent table (the table with “one”), while referencing this information many times in the child table (the table with “many”).', 'In the child table, there should be a foreign key, which is the parent table’s primary key, that is used to reference back to the parent table.', 'In the example below, the foreign key is the author_id.', 'Schema for Authors table and Books table.', 'Books has a foreign key author_id to illustrate the one-to-many relationship.', 'The Authors table and Books table with inserted information.', 'Observe how multiple entries of the Books table have the same author_id.', 'Many-to-Many: In a many-to-many relationship, one or more rows of one table can link to 0, 1 or many rows in the other table.', 'To implement this relationship, we must use a mapping or intermediary or junction table.', 'We will use a grocery store as an example.', 'In a grocery store, you have a list of products (grocery list of the store) called Products with primary key product_id, and each customer has their own order (or transaction) full of groceries, called Transactions with primary key transaction_id.', 'A grocery can be purchased by 0, 1 or more customers, and a customer can purchase 0, 1 or more groceries.', 'To map this, we use a junction table named ProductTransaction using both primary keys product_id and transaction_id to map a transaction (or customer) to a product, and map a product to a transaction.', 'Database Schema for the Products, Transactions and junction table ProductsTransactions to demonstrate the many-to-many relationship between the two tables.', 'Example of values that represent the many-to-many relationship between Products and Transactions.', 'Observe how there are multiple products to the same transaction, and multiple transactions to same product.', '4.', 'Refine the Design — Ask yourself these questions: do you have enough columns to represent your data?', 'Could you derive a column from a combination of columns?', 'Are you entering duplicate information?', 'Do you have any empty fields in individual records?', 'Can a large table be split into two?', 'There are more questions you may ask about your database schema, but to achieve a refined design, you must normalize your tables.', 'Normalization Rules:\\n\\nFirst Normal Form (1NF) : A table follows first normal form if for every row and column intersection (a cell in a table) in the table, there exists a single value and never a list of values.', 'This is known as the atomic rule.', 'Use the one-to-many relationship to follow 1NF.', ': A table follows first normal form if for every row and column intersection (a cell in a table) in the table, there exists a single value and never a list of values.', 'This is known as the atomic rule.', 'Use the one-to-many relationship to follow 1NF.', 'Second Normal Form (2NF): A table follows second normal form if it is 1NF and every non-key column is fully dependent on the primary key.', 'This also applies when a primary key has multiple columns, every non-key column should still depend on the entire set and not part of it.', 'This example does not follow 2NF:\\n\\nOrder ID (PK)\\n\\nProduct ID (PK)\\n\\nProduct Name\\n\\nSince Product Name depends on Product ID but not Order ID.', 'Third Normal Form (3NF): A table is 3NF if it is 2NF and the non-key columns are independent of each other.', 'This example does not follow 3NF:\\n\\nGrocery ID (PK)\\n\\nName\\n\\nPrice\\n\\nDiscount\\n\\nSince Discount is dependent on Price, another non-key column.', 'Lastly, there are integrity rules to ensure integrity of your information:\\n\\nEntity Integrity Rule : The primary key cannot contain NULL!', 'Otherwise, it cannot uniquely identify the row.', 'This includes for multiple column’d primary keys as well, none of the columns can be NULL.', ': The primary key cannot contain NULL!', 'Otherwise, it cannot uniquely identify the row.', 'This includes for multiple column’d primary keys as well, none of the columns can be NULL.', 'Referential Integrity Rule : Each foreign key value must be matched to a primary key value in the table referenced (or parent table).', 'In turn, this means that you can only insert a row with a foreign key in the child table only if that value (of the foreign key) exists in the parent table.', 'If the value of the key changes in the parent table, all rows in the child table(s) should also change the value of the foreign key referring to the parent table.', 'This can be handled by either not allowing change, cascading the change, or set the key value in the child tables to NULL.', ': Each foreign key value must be matched to a primary key value in the table referenced (or parent table).', 'In turn, this means that you can only insert a row with a foreign key in the child table only if that value (of the foreign key) exists in the parent table.', 'If the value of the key changes in the parent table, all rows in the child table(s) should also change the value of the foreign key referring to the parent table.', 'This can be handled by either not allowing change, cascading the change, or set the key value in the child tables to NULL.', 'Business logic integrity: These are validation rules to ensure for correct values (5 digit zip codes, validating credit card number, etc).', 'Conclusions\\n\\nThere are many steps to creating a “good” database structurally.', 'First, you need to understand the needs of your database.', 'What information do you need to store?', 'How can you split this information up into separate tables?', 'What are the primary keys for each table?', 'These are very important questions to ask before jumping into creating a database.', 'You use the information above to create your tables.', 'The tables then need to form relationships with one another.', 'If there are many-to-many relationships, you will need a junction table.', 'Lastly, after establishing relationships, you need to normalize your tables.', 'Make sure that all tables are 3NF, and follow integrity rules to ensure the safety of your data.', 'Voila, you now have yourself a good database schema design!', 'Below are the materials I used to create this article.', 'References:']\n"
     ]
    }
   ],
   "source": [
    "# tokenization\n",
    "text = corpus\n",
    "sent_tokens = nltk.sent_tokenize(text)\n",
    "print(sent_tokens)"
   ]
  },
  {
   "cell_type": "code",
   "execution_count": 12,
   "metadata": {},
   "outputs": [
    {
     "name": "stdout",
     "output_type": "stream",
     "text": [
      "{33: None, 34: None, 35: None, 36: None, 37: None, 38: None, 39: None, 40: None, 41: None, 42: None, 43: None, 44: None, 45: None, 46: None, 47: None, 58: None, 59: None, 60: None, 61: None, 62: None, 63: None, 64: None, 91: None, 92: None, 93: None, 94: None, 95: None, 96: None, 123: None, 124: None, 125: None, 126: None}\n"
     ]
    }
   ],
   "source": [
    "#dictionary to remove punctuations\n",
    "\n",
    "remove_punct_dict = dict ((ord(punct), None) for punct in string.punctuation)\n",
    "\n",
    "print(remove_punct_dict)"
   ]
  },
  {
   "cell_type": "code",
   "execution_count": 13,
   "metadata": {},
   "outputs": [
    {
     "name": "stdout",
     "output_type": "stream",
     "text": [
      "['it', 'is', 'about', 'time', 'i', 'started', 'reviewing', 'my', 'sql', 'and', 'database', 'knowledge', 'i', 'started', 'off', 'by', 'reviewing', 'sql', 'queries', 'as', 'simple', 'as', 'selecting', 'rows', 'from', 'a', 'table', 'but', 'as', 'i', 'was', 'going', 'through', 'these', 'queries', 'i', 'felt', 'like', 'i', 'was', 'not', 'touching', 'upon', 'everything', 'important', 'to', 'relational', 'databases', 'in', 'the', 'back', 'of', 'my', 'head', 'i', 'was', 'thinking', 'there', 'are', 'relationships', '1nf', '2nf', 'etc', '…', 'but', 'i', 'wasn', '’', 't', 'sure', 'until', 'i', 'came', 'across', 'a', 'database', 'schema', 'problem', 'today', 'doh', 'i', 'forgot', 'what', 'it', 'takes', 'to', 'create', 'a', 'database', 'schema', 'relational', 'databases', 'what', 'is', 'a', 'relational', 'database', 'a', 'relational', 'database', 'is', 'defined', 'as', 'a', 'database', 'structured', 'to', 'recognize', 'relations', 'among', 'stored', 'items', 'of', 'information', 'according', 'to', 'google', 'search', 'you', 'can', 'represent', 'data', 'of', 'all', 'sorts', 'through', 'a', 'relational', 'database', 'such', 'as', 'a', 'grocery', 'store', '’', 's', 'inventory', 'to', 'a', 'realtor', 'company', 'and', 'their', 'houses', 'the', 'way', 'a', 'relational', 'database', 'works', 'is', 'by', 'storing', 'information', 'in', 'tables', 'where', 'each', 'table', 'has', 'its', 'own', 'rows', 'and', 'columns', 'a', 'row', 'represents', 'a', 'record', 'or', 'tuple', 'while', 'a', 'column', 'represents', 'a', 'field', 'or', 'attribute', 'i', 'will', 'provide', 'an', 'example', 'of', 'a', 'basic', 'table', 'in', 'this', 'example', 'of', 'a', 'grocery', 'list', 'a', 'row', 'represents', 'a', 'grocery', 'item', 'and', 'how', 'many', 'of', 'each', 'item', 'while', 'a', 'column', 'represents', 'an', 'attribute', 'of', 'a', 'grocery', 'item', 'in', 'the', 'list', 'this', 'table', 'is', 'shown', 'by', 'selecting', 'all', 'elements', 'in', 'the', 'table', 'now', 'after', 'seeing', 'this', 'example', 'you', 'might', 'think', 'a', 'database', 'looks', 'like', 'a', 'spreadsheet', 'however', 'what', 'makes', 'a', 'database', 'relational', 'is', 'the', 'fact', 'that', 'there', 'are', 'relationships', 'between', 'the', 'tables', 'this', 'enables', 'a', 'relational', 'database', 'to', 'efficiently', 'store', 'large', 'amounts', 'of', 'data', 'while', 'retrieving', 'selected', 'data', 'this', 'is', 'the', 'selection', 'of', 'a', 'single', 'row', 'in', 'the', 'table', 'now', 'what', 'is', 'sql', 'sql', 'pronounced', 'either', 'as', '“', 'sequel', '”', 'or', '“', 'ess', 'que', 'el', '”', 'stands', 'for', 'structured', 'query', 'language', 'this', 'language', 'was', 'developed', 'to', 'work', 'with', 'relational', 'databases', 'there', 'are', 'many', 'popular', 'adaptations', 'of', 'sql', 'that', 'are', 'specific', 'to', 'certain', 'relational', 'database', 'management', 'systems', 'rdbms', 'such', 'as', 'postgresql', 'mysql', 'or', 'msql', 'we', 'will', 'just', 'be', 'using', 'standard', 'sql', 'in', 'this', 'article', 'now', 'let', '’', 's', 'get', 'to', 'relational', 'database', 'schema', 'design', 'what', 'is', 'essential', 'to', 'a', 'good', 'database', 'design', 'reduces', 'redundancy', 'divide', 'information', 'carefully', 'among', 'tables', 'to', 'eliminate', 'data', 'redundancy', 'duplicate', 'data', 'wastes', 'space', 'and', 'can', 'lead', 'to', 'inconsistency', 'divide', 'information', 'carefully', 'among', 'tables', 'to', 'eliminate', 'data', 'redundancy', 'duplicate', 'data', 'wastes', 'space', 'and', 'can', 'lead', 'to', 'inconsistency', 'provides', 'access', 'with', 'information', 'a', 'user', 'needs', 'to', 'join', 'tables', 'together', 'use', 'good', 'primary', 'keys', 'while', 'creating', 'proper', 'relationships', 'between', 'tables', 'with', 'information', 'a', 'user', 'needs', 'to', 'join', 'tables', 'together', 'use', 'good', 'primary', 'keys', 'while', 'creating', 'proper', 'relationships', 'between', 'tables', 'ensures', 'data', 'accuracy', 'and', 'integrity', 'and', 'accommodates', 'your', 'data', 'processing', 'and', 'reporting', 'needs', 'design', 'process', 'you', 'are', 'the', 'designer', '—', 'make', 'sure', 'you', 'make', 'the', 'right', 'decisions', 'by', 'using', 'these', 'guidelines', 'to', 'create', 'the', 'best', 'relational', 'database', 'you', 'can', 'define', 'the', 'purpose', 'of', 'the', 'database', '—', 'you', 'want', 'to', 'find', 'and', 'gather', 'requirements', 'for', 'this', 'database', 'determine', 'its', 'objective', 'you', 'can', 'help', 'determine', 'what', 'kind', 'of', 'information', 'you', 'need', 'to', 'record', 'into', 'the', 'database', 'by', 'sampling', 'queries', 'and', 'what', 'results', 'you', 'want', 'from', 'the', 'query', 'from', 'here', 'gather', 'the', 'information', 'you', 'need', 'divide', 'them', 'into', 'individual', 'tables', 'determine', 'what', 'the', 'columns', 'fields', 'of', 'each', 'table', 'will', 'be', 'remember', 'do', 'not', 'repeat', 'information', 'figure', 'out', 'the', 'primary', 'key', 'for', 'each', 'table', '—', 'a', 'primary', 'key', 'is', 'a', 'field', 'that', 'uniquely', 'identifies', 'a', 'row', 'a', 'primary', 'key', 'can', 'be', 'multiple', 'fields', 'if', 'necessary', 'in', 'which', 'this', 'is', 'known', 'as', 'a', 'composite', 'key', 'while', 'a', 'primary', 'key', 'using', 'only', 'one', 'field', 'is', 'known', 'as', 'a', 'simple', 'key', 'for', 'the', 'grocery', 'list', 'above', 'the', 'primary', 'key', 'is', 'the', 'column', 'groceryid', 'i', 'chose', 'groceryid', 'as', 'the', 'primary', 'key', 'as', 'it', 'is', 'unique', 'to', 'every', 'grocery', 'item', 'is', 'of', 'integer', 'type', 'and', 'is', 'simple', 'in', 'light', 'of', 'my', 'decision', 'please', 'remember', 'these', 'guidelines', 'for', 'choosing', 'a', 'primary', 'key', 'make', 'sure', 'each', 'row', 'has', 'a', 'unique', 'key', '—', 'you', 'can', 'not', 'have', 'duplicate', 'values', 'for', 'the', 'primary', 'key', 'of', 'separate', 'rows', 'must', 'have', 'a', 'value', 'can', 'never', 'be', 'null', 'keep', 'it', 'simple', 'if', 'you', 'can', 'use', 'an', 'integer', 'type', 'primary', 'key', '3', 'determine', 'the', 'relationships', 'among', 'the', 'tables', '—', 'if', 'you', 'only', 'have', 'one', 'table', 'it', 'is', 'pretty', 'useless', 'to', 'have', 'a', 'database', '—', 'consider', 'a', 'spreadsheet', 'instead', 'now', 'if', 'you', 'have', 'multiple', 'tables', 'you', 'must', 'determine', 'the', 'relationship', 'between', 'tables', 'there', 'are', 'many', 'types', 'of', 'relationships', 'between', 'tables', 'onetoone', 'onetomany', 'manytomany', 'we', 'will', 'briefly', 'describe', 'these', 'relationships', 'below', 'with', 'examples', 'onetoone', 'in', 'a', 'onetoone', 'relationship', 'only', 'one', 'row', 'of', 'a', 'table', 'is', 'linked', 'to', 'at', 'most', 'one', 'row', 'on', 'the', 'other', 'table', 'in', 'this', 'case', 'a', 'onetoone', 'relationship', 'is', 'useful', 'to', 'store', 'data', 'that', 'is', 'optional', 'for', 'example', 'a', 'grocery', 'list', 'item', 'can', 'map', 'to', 'a', 'grocery', 'item', 'details', 'table', 'that', 'provides', 'more', 'information', 'on', 'the', 'item', 'if', 'the', 'grocery', 'item', 'does', 'not', 'have', 'this', 'data', 'available', 'there', 'won', '’', 't', 'be', 'an', 'entry', 'for', 'that', 'grocery', 'item', 'check', 'out', 'the', 'tables', 'below', 'as', 'an', 'example', 'both', 'tables', 'can', 'be', 'joined', 'with', 'their', 'common', 'column', 'groceryid', 'which', 'happen', 'to', 'be', 'the', 'primary', 'key', 'of', 'both', 'tables', 'schema', 'for', 'the', 'tables', 'with', 'a', 'onetoone', 'relationship', 'for', 'each', 'row', 'in', 'grocerieslist', 'top', 'table', 'there', 'is', 'a', 'row', 'in', 'grocerydetail', 'bottom', 'table', 'listing', 'the', 'optional', 'data', 'onetomany', 'in', 'a', 'onetomany', 'relationship', 'one', 'row', 'of', 'one', 'table', 'can', 'link', 'to', 'many', 'rows', 'in', 'a', 'table', 'a', 'great', 'example', 'of', 'a', 'onetomany', 'relationship', 'is', 'an', 'authorslist', 'and', 'bookslist', 'an', 'author', 'can', 'have', 'many', 'books', 'written', 'and', 'in', 'this', 'case', 'let', '’', 's', 'keep', 'it', 'simple', 'by', 'imagining', 'each', 'book', 'having', 'only', 'one', 'author', 'the', 'advantage', 'of', 'a', 'onetomany', 'relationship', 'is', 'to', 'store', 'the', 'frequently', 'used', 'information', 'in', 'the', 'parent', 'table', 'the', 'table', 'with', '“', 'one', '”', 'while', 'referencing', 'this', 'information', 'many', 'times', 'in', 'the', 'child', 'table', 'the', 'table', 'with', '“', 'many', '”', 'in', 'the', 'child', 'table', 'there', 'should', 'be', 'a', 'foreign', 'key', 'which', 'is', 'the', 'parent', 'table', '’', 's', 'primary', 'key', 'that', 'is', 'used', 'to', 'reference', 'back', 'to', 'the', 'parent', 'table', 'in', 'the', 'example', 'below', 'the', 'foreign', 'key', 'is', 'the', 'authorid', 'schema', 'for', 'authors', 'table', 'and', 'books', 'table', 'books', 'has', 'a', 'foreign', 'key', 'authorid', 'to', 'illustrate', 'the', 'onetomany', 'relationship', 'the', 'authors', 'table', 'and', 'books', 'table', 'with', 'inserted', 'information', 'observe', 'how', 'multiple', 'entries', 'of', 'the', 'books', 'table', 'have', 'the', 'same', 'authorid', 'manytomany', 'in', 'a', 'manytomany', 'relationship', 'one', 'or', 'more', 'rows', 'of', 'one', 'table', 'can', 'link', 'to', '0', '1', 'or', 'many', 'rows', 'in', 'the', 'other', 'table', 'to', 'implement', 'this', 'relationship', 'we', 'must', 'use', 'a', 'mapping', 'or', 'intermediary', 'or', 'junction', 'table', 'we', 'will', 'use', 'a', 'grocery', 'store', 'as', 'an', 'example', 'in', 'a', 'grocery', 'store', 'you', 'have', 'a', 'list', 'of', 'products', 'grocery', 'list', 'of', 'the', 'store', 'called', 'products', 'with', 'primary', 'key', 'productid', 'and', 'each', 'customer', 'has', 'their', 'own', 'order', 'or', 'transaction', 'full', 'of', 'groceries', 'called', 'transactions', 'with', 'primary', 'key', 'transactionid', 'a', 'grocery', 'can', 'be', 'purchased', 'by', '0', '1', 'or', 'more', 'customers', 'and', 'a', 'customer', 'can', 'purchase', '0', '1', 'or', 'more', 'groceries', 'to', 'map', 'this', 'we', 'use', 'a', 'junction', 'table', 'named', 'producttransaction', 'using', 'both', 'primary', 'keys', 'productid', 'and', 'transactionid', 'to', 'map', 'a', 'transaction', 'or', 'customer', 'to', 'a', 'product', 'and', 'map', 'a', 'product', 'to', 'a', 'transaction', 'database', 'schema', 'for', 'the', 'products', 'transactions', 'and', 'junction', 'table', 'productstransactions', 'to', 'demonstrate', 'the', 'manytomany', 'relationship', 'between', 'the', 'two', 'tables', 'example', 'of', 'values', 'that', 'represent', 'the', 'manytomany', 'relationship', 'between', 'products', 'and', 'transactions', 'observe', 'how', 'there', 'are', 'multiple', 'products', 'to', 'the', 'same', 'transaction', 'and', 'multiple', 'transactions', 'to', 'same', 'product', '4', 'refine', 'the', 'design', '—', 'ask', 'yourself', 'these', 'questions', 'do', 'you', 'have', 'enough', 'columns', 'to', 'represent', 'your', 'data', 'could', 'you', 'derive', 'a', 'column', 'from', 'a', 'combination', 'of', 'columns', 'are', 'you', 'entering', 'duplicate', 'information', 'do', 'you', 'have', 'any', 'empty', 'fields', 'in', 'individual', 'records', 'can', 'a', 'large', 'table', 'be', 'split', 'into', 'two', 'there', 'are', 'more', 'questions', 'you', 'may', 'ask', 'about', 'your', 'database', 'schema', 'but', 'to', 'achieve', 'a', 'refined', 'design', 'you', 'must', 'normalize', 'your', 'tables', 'normalization', 'rules', 'first', 'normal', 'form', '1nf', 'a', 'table', 'follows', 'first', 'normal', 'form', 'if', 'for', 'every', 'row', 'and', 'column', 'intersection', 'a', 'cell', 'in', 'a', 'table', 'in', 'the', 'table', 'there', 'exists', 'a', 'single', 'value', 'and', 'never', 'a', 'list', 'of', 'values', 'this', 'is', 'known', 'as', 'the', 'atomic', 'rule', 'use', 'the', 'onetomany', 'relationship', 'to', 'follow', '1nf', 'a', 'table', 'follows', 'first', 'normal', 'form', 'if', 'for', 'every', 'row', 'and', 'column', 'intersection', 'a', 'cell', 'in', 'a', 'table', 'in', 'the', 'table', 'there', 'exists', 'a', 'single', 'value', 'and', 'never', 'a', 'list', 'of', 'values', 'this', 'is', 'known', 'as', 'the', 'atomic', 'rule', 'use', 'the', 'onetomany', 'relationship', 'to', 'follow', '1nf', 'second', 'normal', 'form', '2nf', 'a', 'table', 'follows', 'second', 'normal', 'form', 'if', 'it', 'is', '1nf', 'and', 'every', 'nonkey', 'column', 'is', 'fully', 'dependent', 'on', 'the', 'primary', 'key', 'this', 'also', 'applies', 'when', 'a', 'primary', 'key', 'has', 'multiple', 'columns', 'every', 'nonkey', 'column', 'should', 'still', 'depend', 'on', 'the', 'entire', 'set', 'and', 'not', 'part', 'of', 'it', 'this', 'example', 'does', 'not', 'follow', '2nf', 'order', 'id', 'pk', 'product', 'id', 'pk', 'product', 'name', 'since', 'product', 'name', 'depends', 'on', 'product', 'id', 'but', 'not', 'order', 'id', 'third', 'normal', 'form', '3nf', 'a', 'table', 'is', '3nf', 'if', 'it', 'is', '2nf', 'and', 'the', 'nonkey', 'columns', 'are', 'independent', 'of', 'each', 'other', 'this', 'example', 'does', 'not', 'follow', '3nf', 'grocery', 'id', 'pk', 'name', 'price', 'discount', 'since', 'discount', 'is', 'dependent', 'on', 'price', 'another', 'nonkey', 'column', 'lastly', 'there', 'are', 'integrity', 'rules', 'to', 'ensure', 'integrity', 'of', 'your', 'information', 'entity', 'integrity', 'rule', 'the', 'primary', 'key', 'can', 'not', 'contain', 'null', 'otherwise', 'it', 'can', 'not', 'uniquely', 'identify', 'the', 'row', 'this', 'includes', 'for', 'multiple', 'column', '’', 'd', 'primary', 'keys', 'as', 'well', 'none', 'of', 'the', 'columns', 'can', 'be', 'null', 'the', 'primary', 'key', 'can', 'not', 'contain', 'null', 'otherwise', 'it', 'can', 'not', 'uniquely', 'identify', 'the', 'row', 'this', 'includes', 'for', 'multiple', 'column', '’', 'd', 'primary', 'keys', 'as', 'well', 'none', 'of', 'the', 'columns', 'can', 'be', 'null', 'referential', 'integrity', 'rule', 'each', 'foreign', 'key', 'value', 'must', 'be', 'matched', 'to', 'a', 'primary', 'key', 'value', 'in', 'the', 'table', 'referenced', 'or', 'parent', 'table', 'in', 'turn', 'this', 'means', 'that', 'you', 'can', 'only', 'insert', 'a', 'row', 'with', 'a', 'foreign', 'key', 'in', 'the', 'child', 'table', 'only', 'if', 'that', 'value', 'of', 'the', 'foreign', 'key', 'exists', 'in', 'the', 'parent', 'table', 'if', 'the', 'value', 'of', 'the', 'key', 'changes', 'in', 'the', 'parent', 'table', 'all', 'rows', 'in', 'the', 'child', 'tables', 'should', 'also', 'change', 'the', 'value', 'of', 'the', 'foreign', 'key', 'referring', 'to', 'the', 'parent', 'table', 'this', 'can', 'be', 'handled', 'by', 'either', 'not', 'allowing', 'change', 'cascading', 'the', 'change', 'or', 'set', 'the', 'key', 'value', 'in', 'the', 'child', 'tables', 'to', 'null', 'each', 'foreign', 'key', 'value', 'must', 'be', 'matched', 'to', 'a', 'primary', 'key', 'value', 'in', 'the', 'table', 'referenced', 'or', 'parent', 'table', 'in', 'turn', 'this', 'means', 'that', 'you', 'can', 'only', 'insert', 'a', 'row', 'with', 'a', 'foreign', 'key', 'in', 'the', 'child', 'table', 'only', 'if', 'that', 'value', 'of', 'the', 'foreign', 'key', 'exists', 'in', 'the', 'parent', 'table', 'if', 'the', 'value', 'of', 'the', 'key', 'changes', 'in', 'the', 'parent', 'table', 'all', 'rows', 'in', 'the', 'child', 'tables', 'should', 'also', 'change', 'the', 'value', 'of', 'the', 'foreign', 'key', 'referring', 'to', 'the', 'parent', 'table', 'this', 'can', 'be', 'handled', 'by', 'either', 'not', 'allowing', 'change', 'cascading', 'the', 'change', 'or', 'set', 'the', 'key', 'value', 'in', 'the', 'child', 'tables', 'to', 'null', 'business', 'logic', 'integrity', 'these', 'are', 'validation', 'rules', 'to', 'ensure', 'for', 'correct', 'values', '5', 'digit', 'zip', 'codes', 'validating', 'credit', 'card', 'number', 'etc', 'conclusions', 'there', 'are', 'many', 'steps', 'to', 'creating', 'a', '“', 'good', '”', 'database', 'structurally', 'first', 'you', 'need', 'to', 'understand', 'the', 'needs', 'of', 'your', 'database', 'what', 'information', 'do', 'you', 'need', 'to', 'store', 'how', 'can', 'you', 'split', 'this', 'information', 'up', 'into', 'separate', 'tables', 'what', 'are', 'the', 'primary', 'keys', 'for', 'each', 'table', 'these', 'are', 'very', 'important', 'questions', 'to', 'ask', 'before', 'jumping', 'into', 'creating', 'a', 'database', 'you', 'use', 'the', 'information', 'above', 'to', 'create', 'your', 'tables', 'the', 'tables', 'then', 'need', 'to', 'form', 'relationships', 'with', 'one', 'another', 'if', 'there', 'are', 'manytomany', 'relationships', 'you', 'will', 'need', 'a', 'junction', 'table', 'lastly', 'after', 'establishing', 'relationships', 'you', 'need', 'to', 'normalize', 'your', 'tables', 'make', 'sure', 'that', 'all', 'tables', 'are', '3nf', 'and', 'follow', 'integrity', 'rules', 'to', 'ensure', 'the', 'safety', 'of', 'your', 'data', 'voila', 'you', 'now', 'have', 'yourself', 'a', 'good', 'database', 'schema', 'design', 'below', 'are', 'the', 'materials', 'i', 'used', 'to', 'create', 'this', 'article', 'references']\n"
     ]
    }
   ],
   "source": [
    "def LemNormalize(text):\n",
    "    return nltk.word_tokenize(text.lower().translate(remove_punct_dict))\n",
    "\n",
    "print((LemNormalize(text)))"
   ]
  },
  {
   "cell_type": "code",
   "execution_count": 14,
   "metadata": {},
   "outputs": [],
   "source": [
    "Greeting_inputs = [\"hi\", \"hello\", \"hola\"]\n",
    "\n",
    "Greeting_response=[\"howdy\", \"hi\", \"meh\", \"what's good\"]\n",
    "\n",
    "def greeting(sentence):\n",
    "    # if user's input is a greeting, then return randomly chosen response\n",
    "    for word in sentence.split():\n",
    "        if word.lower() in Greeting_inputs:\n",
    "            return random.choice(Greeting_response)\n",
    "        \n",
    "        \n",
    "        "
   ]
  },
  {
   "cell_type": "code",
   "execution_count": 16,
   "metadata": {},
   "outputs": [
    {
     "name": "stdout",
     "output_type": "stream",
     "text": [
      "hi\n",
      "['It is about time I started reviewing my SQL and database knowledge.', 'I started off by reviewing SQL queries as simple as selecting rows from a table, but as I was going through these queries, I felt like I was not touching upon everything important to relational databases.', 'In the back of my head, I was thinking there are relationships, 1NF, 2NF, etc.', '… But I wasn’t sure until I came across a database schema problem today.', 'Doh!', 'I forgot what it takes to create a database schema!', 'Relational Databases\\n\\nWhat is a relational database?', 'A relational database is defined as a database structured to recognize relations among stored items of information according to Google search.', 'You can represent data of all sorts through a relational database, such as a grocery store’s inventory to a realtor company and their houses.', 'The way a relational database works is by storing information in tables, where each table has its own rows and columns.', 'A row represents a record (or tuple), while a column represents a field (or attribute).', 'I will provide an example of a basic table.', 'In this example of a grocery list, a row represents a grocery item and how many of each item, while a column represents an attribute of a grocery item in the list.', 'This table is shown by selecting all elements in the table.', 'Now, after seeing this example, you might think a database looks like a spreadsheet.', 'However, what makes a database relational is the fact that there are relationships between the tables.', 'This enables a relational database to efficiently store large amounts of data, while retrieving selected data.', 'This is the selection of a single row in the table.', 'Now, what is SQL?', 'SQL (pronounced either as “sequel” or “ess que el”) stands for Structured Query Language.', 'This language was developed to work with relational databases.', 'There are many popular adaptations of SQL that are specific to certain relational database management systems (RDBMS), such as PostgreSQL, MySQL or mSQL.', 'We will just be using standard SQL in this article.', 'Now let’s get to Relational Database Schema Design!', 'What is essential to a good database design?', 'Reduces redundancy : divide information carefully among tables to eliminate data redundancy.', 'Duplicate data wastes space and can lead to inconsistency.', ': divide information carefully among tables to eliminate data redundancy.', 'Duplicate data wastes space and can lead to inconsistency.', 'Provides access with information a user needs to join tables together.', '(Use good primary keys, while creating proper relationships between tables.)', 'with information a user needs to join tables together.', '(Use good primary keys, while creating proper relationships between tables.)', 'Ensures data accuracy and integrity .', 'and .', 'Accommodates your data processing and reporting needs.', 'Design Process\\n\\nYou are the designer — make sure you make the right decisions by using these guidelines to create the best relational database you can.', 'Define the purpose of the database — You want to find and gather requirements for this database.', 'Determine its objective.', 'You can help determine what kind of information you need to record into the database by sampling queries and what results you want from the query.', 'From here, gather the information you need, divide them into individual tables.', 'Determine what the columns (fields) of each table will be.', 'Remember, do not repeat information.', 'Figure out the Primary Key for each table — A primary key is a field that uniquely identifies a row.', 'A primary key can be multiple fields if necessary, in which this is known as a composite key, while a primary key using only one field is known as a simple key.', 'For the grocery list above, the Primary Key is the column grocery_id.', 'I chose grocery_id as the primary key as it is unique to every grocery item, is of integer type, and is simple.', 'In light of my decision, please remember these guidelines for choosing a primary key:\\n\\nMake sure each row has a unique key — you cannot have duplicate values for the primary key of separate rows.', 'Must have a value!', 'Can never be null.', 'Keep it simple if you can.', 'Use an integer type primary key.', '3.', 'Determine the relationships among the tables — if you only have one table, it is pretty useless to have a database — consider a spreadsheet instead.', 'Now, if you have multiple tables, you must determine the relationship between tables.', 'There are many types of relationships between tables: one-to-one, one-to-many, many-to-many.', 'We will briefly describe these relationships below, with examples.', 'One-to-one: In a one-to-one relationship, only one row of a table is linked to at most one row on the other table.', 'In this case, a one-to-one relationship is useful to store data that is optional.', 'For example, a grocery list item can map to a grocery item details table that provides more information on the item.', 'If the grocery item does not have this data available, there won’t be an entry for that grocery item.', 'Check out the tables below as an example.', 'Both tables can be joined with their common column grocery_id, which happen to be the primary key of both tables.', 'Schema for the tables with a one-to-one relationship.', 'For each row in GroceriesList (top table) there is a row in GroceryDetail (bottom table), listing the optional data.', 'One-to-Many: In a one-to-many relationship, one row of one table can link to many rows in a table.', 'A great example of a one-to-many relationship is an AuthorsList and BooksList.', 'An author can have many books written, and in this case let’s keep it simple by imagining each book having only one author.', 'The advantage of a one-to-many relationship is to store the frequently used information in the parent table (the table with “one”), while referencing this information many times in the child table (the table with “many”).', 'In the child table, there should be a foreign key, which is the parent table’s primary key, that is used to reference back to the parent table.', 'In the example below, the foreign key is the author_id.', 'Schema for Authors table and Books table.', 'Books has a foreign key author_id to illustrate the one-to-many relationship.', 'The Authors table and Books table with inserted information.', 'Observe how multiple entries of the Books table have the same author_id.', 'Many-to-Many: In a many-to-many relationship, one or more rows of one table can link to 0, 1 or many rows in the other table.', 'To implement this relationship, we must use a mapping or intermediary or junction table.', 'We will use a grocery store as an example.', 'In a grocery store, you have a list of products (grocery list of the store) called Products with primary key product_id, and each customer has their own order (or transaction) full of groceries, called Transactions with primary key transaction_id.', 'A grocery can be purchased by 0, 1 or more customers, and a customer can purchase 0, 1 or more groceries.', 'To map this, we use a junction table named ProductTransaction using both primary keys product_id and transaction_id to map a transaction (or customer) to a product, and map a product to a transaction.', 'Database Schema for the Products, Transactions and junction table ProductsTransactions to demonstrate the many-to-many relationship between the two tables.', 'Example of values that represent the many-to-many relationship between Products and Transactions.', 'Observe how there are multiple products to the same transaction, and multiple transactions to same product.', '4.', 'Refine the Design — Ask yourself these questions: do you have enough columns to represent your data?', 'Could you derive a column from a combination of columns?', 'Are you entering duplicate information?', 'Do you have any empty fields in individual records?', 'Can a large table be split into two?', 'There are more questions you may ask about your database schema, but to achieve a refined design, you must normalize your tables.', 'Normalization Rules:\\n\\nFirst Normal Form (1NF) : A table follows first normal form if for every row and column intersection (a cell in a table) in the table, there exists a single value and never a list of values.', 'This is known as the atomic rule.', 'Use the one-to-many relationship to follow 1NF.', ': A table follows first normal form if for every row and column intersection (a cell in a table) in the table, there exists a single value and never a list of values.', 'This is known as the atomic rule.', 'Use the one-to-many relationship to follow 1NF.', 'Second Normal Form (2NF): A table follows second normal form if it is 1NF and every non-key column is fully dependent on the primary key.', 'This also applies when a primary key has multiple columns, every non-key column should still depend on the entire set and not part of it.', 'This example does not follow 2NF:\\n\\nOrder ID (PK)\\n\\nProduct ID (PK)\\n\\nProduct Name\\n\\nSince Product Name depends on Product ID but not Order ID.', 'Third Normal Form (3NF): A table is 3NF if it is 2NF and the non-key columns are independent of each other.', 'This example does not follow 3NF:\\n\\nGrocery ID (PK)\\n\\nName\\n\\nPrice\\n\\nDiscount\\n\\nSince Discount is dependent on Price, another non-key column.', 'Lastly, there are integrity rules to ensure integrity of your information:\\n\\nEntity Integrity Rule : The primary key cannot contain NULL!', 'Otherwise, it cannot uniquely identify the row.', 'This includes for multiple column’d primary keys as well, none of the columns can be NULL.', ': The primary key cannot contain NULL!', 'Otherwise, it cannot uniquely identify the row.', 'This includes for multiple column’d primary keys as well, none of the columns can be NULL.', 'Referential Integrity Rule : Each foreign key value must be matched to a primary key value in the table referenced (or parent table).', 'In turn, this means that you can only insert a row with a foreign key in the child table only if that value (of the foreign key) exists in the parent table.', 'If the value of the key changes in the parent table, all rows in the child table(s) should also change the value of the foreign key referring to the parent table.', 'This can be handled by either not allowing change, cascading the change, or set the key value in the child tables to NULL.', ': Each foreign key value must be matched to a primary key value in the table referenced (or parent table).', 'In turn, this means that you can only insert a row with a foreign key in the child table only if that value (of the foreign key) exists in the parent table.', 'If the value of the key changes in the parent table, all rows in the child table(s) should also change the value of the foreign key referring to the parent table.', 'This can be handled by either not allowing change, cascading the change, or set the key value in the child tables to NULL.', 'Business logic integrity: These are validation rules to ensure for correct values (5 digit zip codes, validating credit card number, etc).', 'Conclusions\\n\\nThere are many steps to creating a “good” database structurally.', 'First, you need to understand the needs of your database.', 'What information do you need to store?', 'How can you split this information up into separate tables?', 'What are the primary keys for each table?', 'These are very important questions to ask before jumping into creating a database.', 'You use the information above to create your tables.', 'The tables then need to form relationships with one another.', 'If there are many-to-many relationships, you will need a junction table.', 'Lastly, after establishing relationships, you need to normalize your tables.', 'Make sure that all tables are 3NF, and follow integrity rules to ensure the safety of your data.', 'Voila, you now have yourself a good database schema design!', 'Below are the materials I used to create this article.', 'References:', 'hi']\n",
      "  (0, 166)\t0.4688858058768326\n",
      "  (0, 66)\t0.24470027898216665\n",
      "  (0, 289)\t0.3558629177976282\n",
      "  (0, 262)\t0.43230519271521284\n",
      "  (0, 292)\t0.43230519271521284\n",
      "  (0, 307)\t0.4688858058768326\n",
      "  (1, 67)\t0.23355725232866256\n",
      "  (1, 250)\t0.1765888359164151\n",
      "  (1, 142)\t0.24847497377308606\n",
      "  (1, 310)\t0.269500321256998\n",
      "  (1, 174)\t0.24847497377308606\n",
      "  (1, 107)\t0.269500321256998\n",
      "  (1, 119)\t0.269500321256998\n",
      "  (1, 302)\t0.12108121715434009\n",
      "  (1, 265)\t0.19761418340032713\n",
      "  (1, 276)\t0.24847497377308606\n",
      "  (1, 282)\t0.2125319048447506\n",
      "  (1, 232)\t0.4969499475461721\n",
      "  (1, 289)\t0.2045384387155152\n",
      "  (1, 262)\t0.24847497377308606\n",
      "  (1, 292)\t0.24847497377308606\n",
      "  (2, 3)\t0.42524368041048594\n",
      "  (2, 2)\t0.40713279561957916\n",
      "  (2, 253)\t0.3469223855115098\n",
      "  (2, 306)\t0.5162632843002365\n",
      "  :\t:\n",
      "  (126, 200)\t0.4645735953900336\n",
      "  (126, 195)\t0.36947918854071576\n",
      "  (126, 303)\t0.25154592798008446\n",
      "  (126, 253)\t0.3386041217778904\n",
      "  (127, 269)\t0.39239858642626746\n",
      "  (127, 93)\t0.3400646620230716\n",
      "  (127, 5)\t0.3400646620230716\n",
      "  (127, 111)\t0.30945127873162626\n",
      "  (127, 267)\t0.32321690144197157\n",
      "  (127, 181)\t0.3400646620230716\n",
      "  (127, 152)\t0.30945127873162626\n",
      "  (127, 303)\t0.1958905877455396\n",
      "  (127, 65)\t0.24547868616236507\n",
      "  (127, 299)\t0.32321690144197157\n",
      "  (128, 331)\t0.57974864436185\n",
      "  (128, 120)\t0.45719828140719293\n",
      "  (128, 77)\t0.44000275032002445\n",
      "  (128, 271)\t0.4119685887516102\n",
      "  (128, 66)\t0.3025569408090438\n",
      "  (129, 188)\t0.5521932151237138\n",
      "  (129, 322)\t0.4785475931059795\n",
      "  (129, 18)\t0.5091132879010549\n",
      "  (129, 59)\t0.45483899831301566\n",
      "  (130, 244)\t1.0\n",
      "  (131, 134)\t1.0\n",
      "[[0. 0. 0. 0. 0. 0. 0. 0. 0. 0. 0. 0. 0. 0. 0. 0. 0. 0. 0. 0. 0. 0. 0. 0.\n",
      "  0. 0. 0. 0. 0. 0. 0. 0. 0. 0. 0. 0. 0. 0. 0. 0. 0. 0. 0. 0. 0. 0. 0. 0.\n",
      "  0. 0. 0. 0. 0. 0. 0. 0. 0. 0. 0. 0. 0. 0. 0. 0. 0. 0. 0. 0. 0. 0. 0. 0.\n",
      "  0. 0. 0. 0. 0. 0. 0. 0. 0. 0. 0. 0. 0. 0. 0. 0. 0. 0. 0. 0. 0. 0. 0. 0.\n",
      "  0. 0. 0. 0. 0. 0. 0. 0. 0. 0. 0. 0. 0. 0. 0. 0. 0. 0. 0. 0. 0. 0. 0. 0.\n",
      "  0. 0. 0. 0. 0. 0. 0. 0. 0. 0. 0. 1.]]\n",
      "0.0\n",
      "sorry I don't get it.\n"
     ]
    }
   ],
   "source": [
    "user_response = \"hi\"\n",
    "\n",
    "user_response= user_response.lower()\n",
    "print(user_response)\n",
    "# set chat bot response to empty\n",
    "robo_response = \"\"\n",
    "\n",
    "# append users response to sentence lsit\n",
    "\n",
    "sent_tokens.append(user_response)\n",
    "print(sent_tokens)\n",
    "# create TfidVectorizer Object \n",
    "TfidfVec = TfidfVectorizer(tokenizer = LemNormalize, stop_words= \"english\")\n",
    "\n",
    "tfidf = TfidfVec.fit_transform(sent_tokens)\n",
    "\n",
    "print(tfidf)\n",
    "#get measre of similarity\n",
    "vals = cosine_similarity(tfidf[-1], tfidf)\n",
    "#\n",
    "print(vals)\n",
    "\n",
    "\n",
    "idx = vals.argsort()[0][-2]\n",
    "# reduce dimensionality\n",
    "flat = vals.flatten()\n",
    "\n",
    "flat.sort()\n",
    "\n",
    "score = flat[-2]\n",
    "print(score)\n",
    "if(score ==0):\n",
    "    robo_response = robo_response+\"sorry I don't get it.\"\n",
    "else:\n",
    "    robo_response = robo_response+sent_tokens[idx]\n",
    "print(robo_response)\n",
    "\n",
    "sent_tokens.remove(user_response)"
   ]
  },
  {
   "cell_type": "code",
   "execution_count": 45,
   "metadata": {},
   "outputs": [
    {
     "ename": "ValueError",
     "evalue": "list.remove(x): x not in list",
     "output_type": "error",
     "traceback": [
      "\u001b[0;31m---------------------------------------------------------\u001b[0m",
      "\u001b[0;31mValueError\u001b[0m              Traceback (most recent call last)",
      "\u001b[0;32m<ipython-input-45-4ef900be8abd>\u001b[0m in \u001b[0;36m<module>\u001b[0;34m\u001b[0m\n\u001b[0;32m----> 1\u001b[0;31m \u001b[0msent_tokens\u001b[0m\u001b[0;34m.\u001b[0m\u001b[0mremove\u001b[0m\u001b[0;34m(\u001b[0m\u001b[0muser_response\u001b[0m\u001b[0;34m)\u001b[0m\u001b[0;34m\u001b[0m\u001b[0;34m\u001b[0m\u001b[0m\n\u001b[0m",
      "\u001b[0;31mValueError\u001b[0m: list.remove(x): x not in list"
     ]
    }
   ],
   "source": []
  },
  {
   "cell_type": "code",
   "execution_count": null,
   "metadata": {},
   "outputs": [],
   "source": []
  }
 ],
 "metadata": {
  "kernelspec": {
   "display_name": "Python 3",
   "language": "python",
   "name": "python3"
  },
  "language_info": {
   "codemirror_mode": {
    "name": "ipython",
    "version": 3
   },
   "file_extension": ".py",
   "mimetype": "text/x-python",
   "name": "python",
   "nbconvert_exporter": "python",
   "pygments_lexer": "ipython3",
   "version": "3.7.7"
  }
 },
 "nbformat": 4,
 "nbformat_minor": 4
}
